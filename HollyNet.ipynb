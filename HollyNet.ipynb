{
  "nbformat": 4,
  "nbformat_minor": 0,
  "metadata": {
    "colab": {
      "provenance": []
    },
    "kernelspec": {
      "name": "python3",
      "display_name": "Python 3"
    },
    "language_info": {
      "name": "python"
    },
    "accelerator": "GPU",
    "gpuClass": "standard"
  },
  "cells": [
    {
      "cell_type": "code",
      "source": [
        "import numpy as np\n",
        "import pandas as pd"
      ],
      "metadata": {
        "id": "0ZDRc1erfyHh"
      },
      "execution_count": 1,
      "outputs": []
    },
    {
      "cell_type": "code",
      "source": [
        "YEAR = 1990\n",
        "LANGUAGE = 'hi'\n",
        "REGION = 'IN'"
      ],
      "metadata": {
        "id": "dlpz8uEky9Gp"
      },
      "execution_count": 2,
      "outputs": []
    },
    {
      "cell_type": "code",
      "execution_count": 3,
      "metadata": {
        "colab": {
          "base_uri": "https://localhost:8080/"
        },
        "id": "5BFb9uU1fT3e",
        "outputId": "d5b86834-fbc3-4224-a83e-9673c54b8876"
      },
      "outputs": [
        {
          "output_type": "stream",
          "name": "stdout",
          "text": [
            "Looking in indexes: https://pypi.org/simple, https://us-python.pkg.dev/colab-wheels/public/simple/\n",
            "Collecting scikit-network==0.24.0\n",
            "  Downloading scikit_network-0.24.0-cp38-cp38-manylinux_2_12_x86_64.manylinux2010_x86_64.whl (8.8 MB)\n",
            "\u001b[K     |████████████████████████████████| 8.8 MB 154 kB/s \n",
            "\u001b[?25hRequirement already satisfied: scipy>=1.6.2 in /usr/local/lib/python3.8/dist-packages (from scikit-network==0.24.0) (1.7.3)\n",
            "Requirement already satisfied: numpy>=1.20.2 in /usr/local/lib/python3.8/dist-packages (from scikit-network==0.24.0) (1.21.6)\n",
            "Installing collected packages: scikit-network\n",
            "Successfully installed scikit-network-0.24.0\n",
            "rm: cannot remove '*.tsv.gz': No such file or directory\n",
            "total 1093004\n",
            "drwxr-xr-x 1 root root      4096 Dec 30 19:54 .\n",
            "drwxr-xr-x 1 root root      4096 Dec 30 19:53 ..\n",
            "drwxr-xr-x 4 root root      4096 Dec 20 20:18 .config\n",
            "-rw-r--r-- 1 root root 238712260 Dec 30 13:15 name.basics.tsv.gz\n",
            "drwxr-xr-x 1 root root      4096 Dec 20 20:19 sample_data\n",
            "-rw-r--r-- 1 root root 292223822 Dec 30 13:15 title.akas.tsv.gz\n",
            "-rw-r--r-- 1 root root 165782308 Dec 30 13:15 title.basics.tsv.gz\n",
            "-rw-r--r-- 1 root root 422482830 Dec 30 13:15 title.principals.tsv.gz\n"
          ]
        }
      ],
      "source": [
        "!pip install scikit-network==0.24.0\n",
        "\n",
        "!rm *.tsv.gz\n",
        "!wget -q https://datasets.imdbws.com/name.basics.tsv.gz\n",
        "!wget -q https://datasets.imdbws.com/title.principals.tsv.gz\n",
        "!wget -q https://datasets.imdbws.com/title.basics.tsv.gz\n",
        "!wget -q https://datasets.imdbws.com/title.akas.tsv.gz\n",
        "!ls -la"
      ]
    },
    {
      "cell_type": "code",
      "source": [
        "from scipy.sparse import csr_matrix\n",
        "\n",
        "#sbg\n",
        "region = pd.read_csv('title.akas.tsv.gz', sep='\\t', low_memory = True).set_index('titleId')['region']\n",
        "region.value_counts().head(10)"
      ],
      "metadata": {
        "colab": {
          "base_uri": "https://localhost:8080/"
        },
        "id": "pz4BXGMffqTa",
        "outputId": "6af7183d-0a53-4d2c-d807-eaf0b1b8a9d7"
      },
      "execution_count": 4,
      "outputs": [
        {
          "output_type": "stream",
          "name": "stderr",
          "text": [
            "/usr/local/lib/python3.8/dist-packages/IPython/core/interactiveshell.py:3326: DtypeWarning: Columns (7) have mixed types.Specify dtype option on import or set low_memory=False.\n",
            "  exec(code_obj, self.user_global_ns, self.user_ns)\n"
          ]
        },
        {
          "output_type": "execute_result",
          "data": {
            "text/plain": [
              "DE    4101360\n",
              "JP    4099620\n",
              "FR    4099084\n",
              "IN    4036161\n",
              "ES    4022019\n",
              "IT    4001343\n",
              "PT    3935264\n",
              "\\N    1874152\n",
              "US    1400090\n",
              "GB     432944\n",
              "Name: region, dtype: int64"
            ]
          },
          "metadata": {},
          "execution_count": 4
        }
      ]
    },
    {
      "cell_type": "code",
      "source": [
        "# Load the titles\n",
        "title = pd.read_csv('title.basics.tsv.gz', sep='\\t', low_memory=True).set_index('tconst')[['titleType', 'primaryTitle', 'startYear']]\n",
        "title['startYear'] = pd.to_numeric(title['startYear'], errors='coerce')\n",
        "title = title[title['startYear'] >= YEAR]\n",
        "title = title[title['titleType']==\"movie\"]\n",
        "# title.head()"
      ],
      "metadata": {
        "colab": {
          "base_uri": "https://localhost:8080/"
        },
        "id": "XSr1oEcbf3Pf",
        "outputId": "dfd055c1-66d5-4edd-b0a3-756fbe2c6b3f"
      },
      "execution_count": 5,
      "outputs": [
        {
          "output_type": "stream",
          "name": "stderr",
          "text": [
            "/usr/local/lib/python3.8/dist-packages/IPython/core/interactiveshell.py:3326: DtypeWarning: Columns (4) have mixed types.Specify dtype option on import or set low_memory=False.\n",
            "  exec(code_obj, self.user_global_ns, self.user_ns)\n"
          ]
        }
      ]
    },
    {
      "cell_type": "code",
      "source": [
        "#sbg\n",
        "title.startYear.unique()"
      ],
      "metadata": {
        "colab": {
          "base_uri": "https://localhost:8080/"
        },
        "id": "YVTfP2fAf7o_",
        "outputId": "8afa534f-75a0-4f37-fb02-3da213e776a4"
      },
      "execution_count": 6,
      "outputs": [
        {
          "output_type": "execute_result",
          "data": {
            "text/plain": [
              "array([2019., 2021., 2000., 1993., 2001., 1990., 2020., 1995., 2006.,\n",
              "       2018., 1991., 2022., 1994., 1992., 2005., 2004., 1998., 2002.,\n",
              "       1997., 2009., 1996., 2017., 1999., 2015., 2008., 2003., 2007.,\n",
              "       2010., 2012., 2013., 2011., 2016., 2014., 2024., 2023., 2025.,\n",
              "       2027., 2026., 2028.])"
            ]
          },
          "metadata": {},
          "execution_count": 6
        }
      ]
    },
    {
      "cell_type": "code",
      "source": [
        "# Load the cast of each film\n",
        "cast = pd.read_csv('title.principals.tsv.gz', sep='\\t')[['tconst','nconst','category']]\n",
        "\n",
        "# Only consider actors, not directors, composers, etc. Shrinks data to about 40%\n",
        "cast = cast[cast.category.isin({'actor'})]\n",
        "# cast.head()\n",
        "\n",
        "# Only consider movies, not TV series, etc. Shrinks data to ~5%\n",
        "movies = title[title['titleType'] == 'movie']\n",
        "cast = cast[cast['tconst'].isin(movies.index)]\n",
        "# This is what the network looks like\n",
        "# cast.head()"
      ],
      "metadata": {
        "id": "G7k1ZsrDf_LJ"
      },
      "execution_count": 7,
      "outputs": []
    },
    {
      "cell_type": "code",
      "source": [
        "# Restrict data to just a single region (e.g. IN, US, etc)\n",
        "# This loads the region for each title\n",
        "region = pd.read_csv('title.akas.tsv.gz',sep='\\t', low_memory = True).set_index('titleId')[['region','language']]\n",
        "region = region[(region.region == REGION)]\n",
        "##region.head(5)\n",
        "# region.value_counts().head(10)\n",
        "\n",
        "region = region[region['language'] == LANGUAGE ]\n",
        "\n",
        "reg=region.copy()\n",
        "\n",
        "region=region['region']\n",
        "\n",
        "# Load the name data along with birth year\n",
        "name = pd.read_csv('name.basics.tsv.gz', sep='\\t', na_values='\\\\N', dtype={'birthYear': float}).set_index('nconst')[['primaryName', 'birthYear']]\n",
        "\n",
        "# name.head()"
      ],
      "metadata": {
        "id": "c5MsfbpbgDf6"
      },
      "execution_count": 8,
      "outputs": []
    },
    {
      "cell_type": "code",
      "source": [
        "def get_pairs(lang=None, min_acted=25, min_pairings=1):\n",
        "    '''\n",
        "    Returns an adjacency matrix and actor mapping of actor pairs where:\n",
        "    - Each actor has acted in at least min_acted films\n",
        "    - The two actors have acted together in at least min_pairings films\n",
        "    - And (optionally), belong to a region `lang` (IN, UN, etc)\n",
        "    '''\n",
        "    graph = cast\n",
        "    if lang is not None:\n",
        "        graph = graph[graph['tconst'].isin(region[region == lang].index)]\n",
        "        # graph = graph[graph['tconst'].isin(region[region == lang].index)]\n",
        "    name_freq = graph['nconst'].value_counts()\n",
        "    top_names = name_freq[name_freq >= min_acted]\n",
        "    top_actors = graph[graph['nconst'].isin(top_names.index)]\n",
        "\n",
        "    p = top_actors.copy()\n",
        "    p['title'] = p['tconst'].astype('category')\n",
        "    p['name'] = p['nconst'].astype('category')\n",
        "\n",
        "    row = p['title'].cat.codes.values\n",
        "    col = p['name'].cat.codes.values\n",
        "    data = np.ones(len(p), dtype='int')\n",
        "\n",
        "    matrix = csr_matrix((data, (row, col)))\n",
        "    square = matrix.T * matrix\n",
        "    square.setdiag(0)\n",
        "    square = square.tocoo()\n",
        "\n",
        "    pairs = pd.DataFrame({\n",
        "        'row': square.row,\n",
        "        'col': square.col,\n",
        "        'n': square.data\n",
        "    })\n",
        "    pairs = pairs[pairs.n >= min_pairings].reset_index(drop=True)\n",
        "    return pairs, name.reindex(p['name'].cat.categories)\n",
        "\n",
        "def lookup(pairs, cat):\n",
        "    pairs = pd.concat([\n",
        "        pairs,\n",
        "        cat.iloc[pairs.row].reset_index(drop=True),\n",
        "        cat.iloc[pairs.col].reset_index(drop=True),\n",
        "    ], axis=1)\n",
        "    pairs = pairs.drop(columns=['row', 'col'])\n",
        "    pairs.columns = ['count', 'name1', 'year1', 'name2', 'year2']\n",
        "    return pairs.sort_values('count', ascending=False)"
      ],
      "metadata": {
        "id": "66yP0lV-gGwt"
      },
      "execution_count": 9,
      "outputs": []
    },
    {
      "cell_type": "code",
      "source": [
        "pairs, cat = get_pairs(lang=REGION, min_acted=1, min_pairings=1)\n",
        "\n",
        "ForKumu = lookup(pairs, cat)\n",
        "\n",
        "ForKumu = ForKumu[['name1', 'name2', 'count']]\n",
        "ForKumu = ForKumu.rename(columns={'name1':'From',\n",
        "                                  'name2':'To',\n",
        "                                  'count':'Strength'})\n",
        "\n",
        "ForKumu.to_excel(\"pairs.xlsx\", index = False)"
      ],
      "metadata": {
        "id": "m6YPTe4ygLtb"
      },
      "execution_count": 10,
      "outputs": []
    }
  ]
}